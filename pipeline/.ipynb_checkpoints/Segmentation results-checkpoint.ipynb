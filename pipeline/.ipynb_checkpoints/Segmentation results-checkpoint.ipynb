{
 "cells": [
  {
   "cell_type": "code",
   "execution_count": 5,
   "metadata": {},
   "outputs": [
    {
     "name": "stderr",
     "output_type": "stream",
     "text": [
      "Using TensorFlow backend.\n"
     ]
    }
   ],
   "source": [
    "from zf_unet.zf_unet_224_model import ZF_UNET_224, dice_coef_loss, dice_coef"
   ]
  },
  {
   "cell_type": "code",
   "execution_count": 3,
   "metadata": {},
   "outputs": [],
   "source": [
    "import sys"
   ]
  },
  {
   "cell_type": "code",
   "execution_count": 4,
   "metadata": {},
   "outputs": [
    {
     "name": "stdout",
     "output_type": "stream",
     "text": [
      "Solving environment: done\n",
      "\n",
      "## Package Plan ##\n",
      "\n",
      "  environment location: /anaconda2/envs/untitled2\n",
      "\n",
      "  added / updated specs: \n",
      "    - keras\n",
      "\n",
      "\n",
      "The following packages will be downloaded:\n",
      "\n",
      "    package                    |            build\n",
      "    ---------------------------|-----------------\n",
      "    certifi-2018.1.18          |           py36_0         143 KB\n",
      "    keras-2.1.5                |           py36_0         490 KB\n",
      "    ------------------------------------------------------------\n",
      "                                           Total:         633 KB\n",
      "\n",
      "The following NEW packages will be INSTALLED:\n",
      "\n",
      "    keras:           2.1.5-py36_0                \n",
      "\n",
      "The following packages will be UPDATED:\n",
      "\n",
      "    certifi:         2018.1.18-py36_0 conda-forge --> 2018.1.18-py36_0     \n",
      "    openssl:         1.0.2n-0         conda-forge --> 1.0.2o-h26aff7b_0    \n",
      "\n",
      "The following packages will be DOWNGRADED:\n",
      "\n",
      "    ca-certificates: 2018.1.18-0      conda-forge --> 2017.08.26-ha1e5d58_0\n",
      "\n",
      "\n",
      "Downloading and Extracting Packages\n",
      "certifi 2018.1.18: ##################################################### | 100% \n",
      "keras 2.1.5: ########################################################### | 100% \n",
      "Preparing transaction: done\n",
      "Verifying transaction: done\n",
      "Executing transaction: done\n"
     ]
    }
   ],
   "source": [
    "!conda install --yes --prefix {sys.prefix} keras"
   ]
  },
  {
   "cell_type": "code",
   "execution_count": 7,
   "metadata": {},
   "outputs": [
    {
     "name": "stdout",
     "output_type": "stream",
     "text": [
      "LICENSE                     train_infinite_generator.py\r\n",
      "README.md                   zf_unet_224_model.py\r\n",
      "\u001b[34mimg\u001b[m\u001b[m\r\n"
     ]
    }
   ],
   "source": [
    "!ls ../pipeline/zf_unet/"
   ]
  },
  {
   "cell_type": "code",
   "execution_count": null,
   "metadata": {},
   "outputs": [],
   "source": []
  }
 ],
 "metadata": {
  "kernelspec": {
   "display_name": "Python 3",
   "language": "python",
   "name": "python3"
  },
  "language_info": {
   "codemirror_mode": {
    "name": "ipython",
    "version": 3
   },
   "file_extension": ".py",
   "mimetype": "text/x-python",
   "name": "python",
   "nbconvert_exporter": "python",
   "pygments_lexer": "ipython3",
   "version": "3.6.4"
  }
 },
 "nbformat": 4,
 "nbformat_minor": 2
}
